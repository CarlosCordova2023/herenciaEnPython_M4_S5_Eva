{
  "nbformat": 4,
  "nbformat_minor": 0,
  "metadata": {
    "colab": {
      "provenance": [],
      "authorship_tag": "ABX9TyNudd4xWIPQX2Zoa6BM26aP",
      "include_colab_link": true
    },
    "kernelspec": {
      "name": "python3",
      "display_name": "Python 3"
    },
    "language_info": {
      "name": "python"
    }
  },
  "cells": [
    {
      "cell_type": "markdown",
      "metadata": {
        "id": "view-in-github",
        "colab_type": "text"
      },
      "source": [
        "<a href=\"https://colab.research.google.com/github/CarlosCordova2023/herenciaEnPython_M4_S5_Eva/blob/main/HerenciaEnPython.ipynb\" target=\"_parent\"><img src=\"https://colab.research.google.com/assets/colab-badge.svg\" alt=\"Open In Colab\"/></a>"
      ]
    },
    {
      "cell_type": "code",
      "execution_count": 2,
      "metadata": {
        "colab": {
          "base_uri": "https://localhost:8080/"
        },
        "id": "ANCZCJtUGV_l",
        "outputId": "12b6d0c1-46c0-468c-977f-bcdcfdfbeee6"
      },
      "outputs": [
        {
          "output_type": "stream",
          "name": "stdout",
          "text": [
            "{'nombre': 'Juan', 'apellido': 'Pérez', 'anno': 2005, 'nombre_dpto': 'Ingeniería de software', 'nombre_corto_dpto': 'IS', 'salario': 20000}\n",
            "Es trabajador instancia de Persona: True\n",
            "Es trabajador instancia de Departamento: True\n",
            "Es trabajador instancia de Trabajador: True\n"
          ]
        }
      ],
      "source": [
        "class Persona:\n",
        "    def __init__(self, nombre, apellido, anno):\n",
        "        self.nombre = nombre\n",
        "        self.apellido = apellido\n",
        "        self.anno = anno\n",
        "\n",
        "class Departamento:\n",
        "    def __init__(self, nombre_dpto, nombre_corto_dpto):\n",
        "        self.nombre_dpto = nombre_dpto\n",
        "        self.nombre_corto_dpto = nombre_corto_dpto\n",
        "\n",
        "class Trabajador(Persona, Departamento):\n",
        "    def __init__(self, nombre, apellido, anno, nombre_dpto, nombre_corto_dpto, salario):\n",
        "        Persona.__init__(self, nombre, apellido, anno)\n",
        "        Departamento.__init__(self, nombre_dpto, nombre_corto_dpto)\n",
        "        self.salario = salario\n",
        "\n",
        "trabajador = Trabajador(\"Juan\", \"Pérez\", 2005, \"Ingeniería de software\", \"IS\", 20000)\n",
        "\n",
        "# Imprimir el valor del atributo __dict__\n",
        "print(trabajador.__dict__)\n",
        "\n",
        "# Verificar las instancias\n",
        "print(\"Es trabajador instancia de Persona:\", isinstance(trabajador, Persona))\n",
        "print(\"Es trabajador instancia de Departamento:\", isinstance(trabajador, Departamento))\n",
        "print(\"Es trabajador instancia de Trabajador:\", isinstance(trabajador, Trabajador))\n"
      ]
    },
    {
      "cell_type": "markdown",
      "source": [],
      "metadata": {
        "id": "8QwObxYfJILv"
      }
    }
  ]
}